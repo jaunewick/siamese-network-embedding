{
 "cells": [
  {
   "cell_type": "markdown",
   "metadata": {},
   "source": [
    "## Keras (frontend) & tensorflow (backend)"
   ]
  },
  {
   "cell_type": "code",
   "execution_count": 1,
   "metadata": {},
   "outputs": [],
   "source": [
    "import os\n",
    "import keras\n",
    "\n",
    "os.environ[\"KERAS_BACKEND\"] = \"tensorflow\""
   ]
  },
  {
   "cell_type": "markdown",
   "metadata": {},
   "source": [
    "## Loading mnist dataset"
   ]
  },
  {
   "cell_type": "code",
   "execution_count": 2,
   "metadata": {},
   "outputs": [
    {
     "name": "stdout",
     "output_type": "stream",
     "text": [
      "X_train shape: (60000, 28, 28)\n",
      "y_train shape: (60000,)\n"
     ]
    }
   ],
   "source": [
    "from keras import datasets\n",
    "\n",
    "(X_train, y_train), (X_test, y_test) = datasets.mnist.load_data()\n",
    "\n",
    "# 60000 images of 28x28 dimension\n",
    "print(\"X_train shape:\", X_train.shape)\n",
    "print(\"y_train shape:\", y_train.shape)"
   ]
  },
  {
   "cell_type": "markdown",
   "metadata": {},
   "source": [
    "Let's display the first 10 images in the dataset."
   ]
  },
  {
   "cell_type": "code",
   "execution_count": 3,
   "metadata": {},
   "outputs": [
    {
     "data": {
      "image/png": "[encoded data removed]",
      "text/plain": [
       "<Figure size 640x480 with 10 Axes>"
      ]
     },
     "metadata": {},
     "output_type": "display_data"
    }
   ],
   "source": [
    "import matplotlib.pyplot as plt\n",
    "\n",
    "for i in range(10):\n",
    "    plt.subplot(1, 10, i+1)\n",
    "    plt.imshow(X_train[i], cmap=\"Blues\")\n",
    "    plt.title(y_train[i])\n",
    "    plt.axis(\"off\")"
   ]
  },
  {
   "cell_type": "markdown",
   "metadata": {},
   "source": [
    "## Reshape inputs\n",
    "Let's now reshape the data to have a single array with 28x28=784 pixels, so that we can feed it as an input for our siamese network."
   ]
  },
  {
   "cell_type": "code",
   "execution_count": 4,
   "metadata": {},
   "outputs": [
    {
     "name": "stdout",
     "output_type": "stream",
     "text": [
      "X_train shape: (60000, 784)\n",
      "X_test shape: (10000, 784)\n"
     ]
    }
   ],
   "source": [
    "X_train = X_train.reshape(-1, 784)\n",
    "X_test = X_test.reshape(-1, 784)\n",
    "\n",
    "print(\"X_train shape:\", X_train.shape)\n",
    "print(\"X_test shape:\", X_test.shape)"
   ]
  },
  {
   "cell_type": "markdown",
   "metadata": {},
   "source": [
    "## Normalization\n",
    "\n",
    "Let's normalize each image to values between 0 and 1 via min-max normalization."
   ]
  },
  {
   "cell_type": "code",
   "execution_count": 5,
   "metadata": {},
   "outputs": [],
   "source": [
    "X_train = (X_train - X_train.min()) / (X_train.max() - X_train.min())\n",
    "X_test = (X_test - X_test.min()) / (X_test.max() - X_test.min())"
   ]
  },
  {
   "cell_type": "markdown",
   "metadata": {},
   "source": [
    "## Generating positive/negative pairs\n",
    "\n",
    "Let's start by generating 60 000 positive pairs, and 60 000 negative pairs (120 000 pairs total) to train our siamese network."
   ]
  },
  {
   "cell_type": "code",
   "execution_count": 6,
   "metadata": {},
   "outputs": [],
   "source": [
    "import numpy as np\n",
    "\n",
    "def generate_pairs(X, y):\n",
    "    X_pairs, y_pairs = [], []\n",
    "\n",
    "    for i in range(len(X)):\n",
    "        label = y[i]\n",
    "\n",
    "        # Positive pairs\n",
    "        positive_label_index = np.random.choice(np.where(y == label)[0])\n",
    "        X_pairs.append([X[i], X[positive_label_index]])\n",
    "        y_pairs.append([0])\n",
    "\n",
    "        # Negative pairs\n",
    "        negative_label_index = np.random.choice(np.where(y != label)[0])\n",
    "        X_pairs.append([X[i], X[negative_label_index]])\n",
    "        y_pairs.append([1])\n",
    "\n",
    "    # Braking alternate pos/neg\n",
    "    indices = np.arange(len(X_pairs))\n",
    "    np.random.shuffle(indices)\n",
    "    \n",
    "    # Return array in shuffled order\n",
    "    return np.array(X_pairs)[indices], np.array(y_pairs)[indices]"
   ]
  },
  {
   "cell_type": "code",
   "execution_count": 7,
   "metadata": {},
   "outputs": [
    {
     "name": "stdout",
     "output_type": "stream",
     "text": [
      "X_train_pairs shape: (120000, 2, 784)\n",
      "X_test_pairs shape: (20000, 2, 784)\n"
     ]
    }
   ],
   "source": [
    "X_train_pairs, y_train_pairs = generate_pairs(X_train, y_train)\n",
    "X_test_pairs, y_test_pairs = generate_pairs(X_test, y_test)\n",
    "\n",
    "print(\"X_train_pairs shape:\", X_train_pairs.shape)\n",
    "print(\"X_test_pairs shape:\", X_test_pairs.shape)"
   ]
  },
  {
   "cell_type": "markdown",
   "metadata": {},
   "source": [
    "Let's do a little verification to see if the pairs were done correctly before proceeding in creating our siamese network."
   ]
  },
  {
   "cell_type": "code",
   "execution_count": 8,
   "metadata": {},
   "outputs": [],
   "source": [
    "def display_pairs(X, y, n_pairs, correct=None):\n",
    "    plt.figure(figsize=(20,6))\n",
    "    for i, (image1, image2) in enumerate(zip(X[:n_pairs, 0], X[:n_pairs, 1])):\n",
    "        label = int(y[:n_pairs][i][0])\n",
    "        title = \"Positive\" if label == 0 else \"Negative\"\n",
    "        color = \"lightseagreen\"\n",
    "\n",
    "        if correct is not None:\n",
    "            title = \"Same\" if label == 0 else \"Different\"\n",
    "            color = \"mediumseagreen\" if correct[:n_pairs][i][0] else \"indianred\"\n",
    "        \n",
    "        ax = plt.subplot(3, n_pairs, i+1)\n",
    "        ax.text(\n",
    "            1, -3, title, style=\"italic\", bbox={\"facecolor\": color, \"pad\": 4}\n",
    "        )\n",
    "\n",
    "        plt.imshow(image1.reshape(28,28), cmap=\"Blues\")\n",
    "        plt.axis(\"off\")\n",
    "\n",
    "        ax = plt.subplot(3, n_pairs, i+1+n_pairs)\n",
    "        plt.imshow(image2.reshape(28,28), cmap=\"Blues\")\n",
    "        plt.axis(\"off\")\n",
    "\n",
    "    plt.show()"
   ]
  },
  {
   "cell_type": "code",
   "execution_count": 11,
   "metadata": {},
   "outputs": [
    {
     "data": {
      "image/png": "[encoded data removed]",
      "text/plain": [
       "<Figure size 2000x600 with 20 Axes>"
      ]
     },
     "metadata": {},
     "output_type": "display_data"
    }
   ],
   "source": [
    "display_pairs(X_train_pairs, y_train_pairs, n_pairs=10)"
   ]
  },
  {
   "cell_type": "markdown",
   "metadata": {},
   "source": [
    "## Building the model\n",
    "\n",
    "Let's first defining the inputs for our pair of images."
   ]
  },
  {
   "cell_type": "code",
   "execution_count": 12,
   "metadata": {},
   "outputs": [],
   "source": [
    "from keras import Input\n",
    "\n",
    "input1 = Input(shape=(784,))\n",
    "input2 = Input(shape=(784,))"
   ]
  },
  {
   "cell_type": "markdown",
   "metadata": {},
   "source": [
    "Now, let's build the body of the siamese network"
   ]
  },
  {
   "cell_type": "code",
   "execution_count": 13,
   "metadata": {},
   "outputs": [],
   "source": [
    "from keras.layers import Dense\n",
    "from keras.models import Sequential\n",
    "\n",
    "network = Sequential(\n",
    "    [\n",
    "        Input(shape=(784,)),\n",
    "\n",
    "        Dense(512, activation=\"relu\"),\n",
    "        Dense(256, activation=\"relu\"),\n",
    "\n",
    "        # Getting the raw embeddings, no activation\n",
    "        # Small sized embeddings (Casual Project)\n",
    "        Dense(128, activation=None),\n",
    "    ]\n",
    ")"
   ]
  },
  {
   "cell_type": "markdown",
   "metadata": {},
   "source": [
    "Using the same network instance to share the same weights."
   ]
  },
  {
   "cell_type": "code",
   "execution_count": 14,
   "metadata": {},
   "outputs": [],
   "source": [
    "twin1, twin2 = network(input1), network(input2)"
   ]
  },
  {
   "cell_type": "markdown",
   "metadata": {},
   "source": [
    "Defining a Lambda layer that calculates the Euclidean distance, and calculating the distance between embeddings."
   ]
  },
  {
   "cell_type": "code",
   "execution_count": 15,
   "metadata": {},
   "outputs": [],
   "source": [
    "from keras.layers import Lambda\n",
    "from keras.ops import norm\n",
    "\n",
    "def euclidean_distance(twins):\n",
    "    twin1_output, twin2_output = twins\n",
    "    return norm(twin1_output - twin2_output, axis=1, keepdims=True)"
   ]
  },
  {
   "cell_type": "code",
   "execution_count": 16,
   "metadata": {},
   "outputs": [],
   "source": [
    "distance = Lambda(euclidean_distance)([twin1, twin2])"
   ]
  },
  {
   "cell_type": "markdown",
   "metadata": {},
   "source": [
    "All we need to do now is assemble the model together."
   ]
  },
  {
   "cell_type": "code",
   "execution_count": 17,
   "metadata": {},
   "outputs": [],
   "source": [
    "from keras import Model\n",
    "\n",
    "model = Model(inputs=[input1, input2], outputs=distance)"
   ]
  },
  {
   "cell_type": "code",
   "execution_count": null,
   "metadata": {},
   "outputs": [],
   "source": []
  }
 ],
 "metadata": {
  "kernelspec": {
   "display_name": ".venv",
   "language": "python",
   "name": "python3"
  },
  "language_info": {
   "codemirror_mode": {
    "name": "ipython",
    "version": 3
   },
   "file_extension": ".py",
   "mimetype": "text/x-python",
   "name": "python",
   "nbconvert_exporter": "python",
   "pygments_lexer": "ipython3",
   "version": "3.11.3"
  }
 },
 "nbformat": 4,
 "nbformat_minor": 2
}
